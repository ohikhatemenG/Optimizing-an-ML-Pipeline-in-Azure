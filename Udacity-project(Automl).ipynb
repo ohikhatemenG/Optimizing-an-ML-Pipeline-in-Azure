{
 "cells": [
  {
   "cell_type": "code",
   "execution_count": 1,
   "metadata": {},
   "outputs": [],
   "source": [
    "from azureml.core import Workspace, Experiment\n",
    "ws = Workspace.from_config()\n",
    "\n",
    "ws = Workspace.get(name='quick-starts-ws-125398',\n",
    "                   subscription_id='ef22e2eb-a072-4db6-86df-7ea6643b1b5f',\n",
    "                   resource_group='aml-quickstarts-125398',\n",
    "                   )\n",
    "\n",
    "experiment = Experiment(ws, 'myexperiment')"
   ]
  },
  {
   "cell_type": "code",
   "execution_count": 2,
   "metadata": {},
   "outputs": [
    {
     "name": "stdout",
     "output_type": "stream",
     "text": [
      "ampl : ComputeInstance\n",
      "cpu-cluster : AmlCompute\n"
     ]
    }
   ],
   "source": [
    "for compute_name in ws.compute_targets:\n",
    "    compute = ws.compute_targets[compute_name]\n",
    "    print(compute.name, \":\",compute.type)"
   ]
  },
  {
   "cell_type": "code",
   "execution_count": 6,
   "metadata": {},
   "outputs": [],
   "source": [
    "from azureml.data.dataset_factory import TabularDatasetFactory\n",
    "\n",
    "# TOO Create TabularDataset using TabularDataFactory\n",
    "# Data is located at:\n",
    "# \"https://automlsamplenotebookdata.blob.core.windows.net/automl-sample-notebook-data/bankmarketing_train.csv\"\n",
    "url = \"https://automlsamplenotebookdata.blob.core.windows.net/automl-sample-notebook-data/bankmarketing_train.csv\"\n",
    "\n",
    "ds = TabularDatasetFactory.from_delimited_files(path=url)"
   ]
  },
  {
   "cell_type": "code",
   "execution_count": 12,
   "metadata": {},
   "outputs": [],
   "source": [
    "from train22 import clean_data\n",
    "from sklearn.model_selection import train_test_split\n",
    "\n",
    "# Use the clean_data function to clean your data.\n",
    "# x, y = clean_data(### YOUR DATA OBJECT HERE ###)\n",
    "x, y = clean_data(ds) \n",
    "x_train, x_test, y_train, y_test = train_test_split(x, y, test_size=0.3)\n",
    "train_data = x_train.join(y_train)"
   ]
  },
  {
   "cell_type": "code",
   "execution_count": 13,
   "metadata": {},
   "outputs": [],
   "source": [
    "from azureml.train.automl import AutoMLConfig\n",
    "\n",
    "# Set parameters for AutoMLConfig\n",
    "# NOTE: DO NOT CHANGE THE experiment_timeout_minutes PARAMETER OR YOUR INSTANCE WILL TIME OUT.\n",
    "# If you wish to run the experiment longer, you will need to run this notebook in your own\n",
    "# Azure tenant, which will incur personal costs.\n",
    "\n",
    "automl_config = AutoMLConfig(\n",
    "    experiment_timeout_minutes=30,\n",
    "    task='classification',\n",
    "    primary_metric=\"accuracy\",\n",
    "    training_data=train_data,\n",
    "    label_column_name='y',\n",
    "    n_cross_validations=5)\n"
   ]
  },
  {
   "cell_type": "code",
   "execution_count": 14,
   "metadata": {},
   "outputs": [
    {
     "name": "stdout",
     "output_type": "stream",
     "text": [
      "Running on local machine\n",
      "Parent Run ID: AutoML_d8ded348-5656-4304-b5fd-4d60809949b8\n",
      "\n",
      "Current status: DatasetEvaluation. Gathering dataset statistics.\n",
      "Current status: FeaturesGeneration. Generating features for the dataset.\n",
      "Current status: DatasetFeaturization. Beginning to fit featurizers and featurize the dataset.\n",
      "Current status: DatasetFeaturizationCompleted. Completed fit featurizers and featurizing the dataset.\n",
      "Current status: DatasetBalancing. Performing class balancing sweeping\n",
      "Current status: DatasetCrossValidationSplit. Generating individually featurized CV splits.\n",
      "\n",
      "****************************************************************************************************\n",
      "DATA GUARDRAILS: \n",
      "\n",
      "TYPE:         Class balancing detection\n",
      "STATUS:       ALERTED\n",
      "DESCRIPTION:  To decrease model bias, please cancel the current run and fix balancing problem.\n",
      "              Learn more about imbalanced data: https://aka.ms/AutomatedMLImbalancedData\n",
      "DETAILS:      Imbalanced data can lead to a falsely perceived positive effect of a model's accuracy because the input data has bias towards one class.\n",
      "+---------------------------------+---------------------------------+--------------------------------------+\n",
      "|Size of the smallest class       |Name/Label of the smallest class |Number of samples in the training data|\n",
      "+=================================+=================================+======================================+\n",
      "|2571                             |1                                |23065                                 |\n",
      "+---------------------------------+---------------------------------+--------------------------------------+\n",
      "\n",
      "****************************************************************************************************\n",
      "\n",
      "TYPE:         Missing feature values imputation\n",
      "STATUS:       PASSED\n",
      "DESCRIPTION:  No feature missing values were detected in the training data.\n",
      "              Learn more about missing value imputation: https://aka.ms/AutomatedMLFeaturization\n",
      "\n",
      "****************************************************************************************************\n",
      "\n",
      "TYPE:         High cardinality feature detection\n",
      "STATUS:       PASSED\n",
      "DESCRIPTION:  Your inputs were analyzed, and no high cardinality features were detected.\n",
      "              Learn more about high cardinality feature handling: https://aka.ms/AutomatedMLFeaturization\n",
      "\n",
      "****************************************************************************************************\n",
      "Current status: ModelSelection. Beginning model selection.\n",
      "\n",
      "****************************************************************************************************\n",
      "ITERATION: The iteration being evaluated.\n",
      "PIPELINE: A summary description of the pipeline being evaluated.\n",
      "DURATION: Time taken for the current iteration.\n",
      "METRIC: The result of computing score on the fitted pipeline.\n",
      "BEST: The best observed score thus far.\n",
      "****************************************************************************************************\n",
      "\n",
      " ITERATION   PIPELINE                                       DURATION      METRIC      BEST\n",
      "         0   MaxAbsScaler LightGBM                          0:00:33       0.9125    0.9125\n",
      "         1   MaxAbsScaler XGBoostClassifier                 0:00:30       0.9136    0.9136\n",
      "         2   MaxAbsScaler RandomForest                      0:00:22       0.8943    0.9136\n",
      "         3   MaxAbsScaler RandomForest                      0:00:23       0.8885    0.9136\n",
      "         4   MaxAbsScaler SGD                               0:00:27       0.8548    0.9136\n",
      "         5   MaxAbsScaler SGD                               0:00:28       0.9044    0.9136\n",
      "         6   MaxAbsScaler ExtremeRandomTrees                0:00:30       0.8994    0.9136\n",
      "         7   MaxAbsScaler ExtremeRandomTrees                0:00:25       0.9002    0.9136\n",
      "         8   MaxAbsScaler ExtremeRandomTrees                0:00:26       0.8989    0.9136\n",
      "         9   MaxAbsScaler ExtremeRandomTrees                0:00:25       0.7662    0.9136\n",
      "        10   MaxAbsScaler SGD                               0:00:21       0.9024    0.9136\n",
      "        11   MaxAbsScaler SGD                               0:00:22       0.9020    0.9136\n",
      "        12   MaxAbsScaler RandomForest                      0:00:21       0.8891    0.9136\n",
      "        13   StandardScalerWrapper ExtremeRandomTrees       0:00:25       0.8885    0.9136\n",
      "        14   MaxAbsScaler RandomForest                      0:00:23       0.7768    0.9136\n",
      "        15   MaxAbsScaler SGD                               0:00:21       0.8563    0.9136\n",
      "        16   MaxAbsScaler RandomForest                      0:00:23       0.8885    0.9136\n",
      "        17   MaxAbsScaler ExtremeRandomTrees                0:00:25       0.8989    0.9136\n",
      "        18   SparseNormalizer ExtremeRandomTrees            0:00:24       0.7256    0.9136\n",
      "        19   MaxAbsScaler SGD                               0:00:21       0.9057    0.9136\n",
      "        20   MaxAbsScaler ExtremeRandomTrees                0:00:26       0.7395    0.9136\n",
      "        21   MaxAbsScaler RandomForest                      0:00:24       0.7664    0.9136\n",
      "        22   MaxAbsScaler LightGBM                          0:00:23       0.9054    0.9136\n",
      "        23   MaxAbsScaler RandomForest                      0:00:25       0.8885    0.9136\n",
      "        24   MaxAbsScaler LightGBM                          0:00:26       0.9088    0.9136\n",
      "        25   SparseNormalizer XGBoostClassifier             0:00:24       0.8885    0.9136\n",
      "        26   StandardScalerWrapper LightGBM                 0:00:23       0.9063    0.9136\n",
      "        27   StandardScalerWrapper LightGBM                 0:00:23       0.8982    0.9136\n",
      "        28   MaxAbsScaler ExtremeRandomTrees                0:00:39       0.9001    0.9136\n",
      "        29   SparseNormalizer XGBoostClassifier             0:01:05       0.9109    0.9136\n",
      "        30   StandardScalerWrapper XGBoostClassifier        0:00:25       0.8885    0.9136\n",
      "        31   MaxAbsScaler ExtremeRandomTrees                0:00:27       0.9018    0.9136\n",
      "        32   StandardScalerWrapper ExtremeRandomTrees       0:00:33       0.8998    0.9136\n",
      "        33   MaxAbsScaler LightGBM                          0:00:28       0.9047    0.9136\n",
      "        34   StandardScalerWrapper LightGBM                 0:00:24       0.9036    0.9136\n",
      "        35   StandardScalerWrapper XGBoostClassifier        0:00:24       0.8967    0.9136\n",
      "        36   MaxAbsScaler LightGBM                          0:00:23       0.8963    0.9136\n",
      "        37   StandardScalerWrapper XGBoostClassifier        0:00:26       0.9125    0.9136\n",
      "        38   MaxAbsScaler LightGBM                          0:00:24       0.9063    0.9136\n",
      "        39   MaxAbsScaler ExtremeRandomTrees                0:00:44       0.8995    0.9136\n",
      "        40   "
     ]
    },
    {
     "name": "stderr",
     "output_type": "stream",
     "text": [
      "WARNING - Retrying (Retry(total=2, connect=2, read=3, redirect=None, status=None)) after connection broken by 'ConnectTimeoutError(<urllib3.connection.HTTPSConnection object at 0x7f30b2385550>, 'Connection to southcentralus.experiments.azureml.net timed out. (connect timeout=100)')': /history/v1.0/subscriptions/ef22e2eb-a072-4db6-86df-7ea6643b1b5f/resourceGroups/aml-quickstarts-125398/providers/Microsoft.MachineLearningServices/workspaces/quick-starts-ws-125398/experimentids/35e860d1-a9e4-4609-bee8-37ed689e01e5/runs/7eab38c4-6839-4c89-9e01-d58558bd62ee\n"
     ]
    },
    {
     "name": "stdout",
     "output_type": "stream",
     "text": [
      "Performing interactive authentication. Please follow the instructions on the terminal.\n",
      "To sign in, use a web browser to open the page https://microsoft.com/devicelogin and enter the code RB389UBCP to authenticate.\n",
      "You have logged in. Now let us find all the subscriptions to which you have access...\n",
      "Interactive authentication successfully completed.\n",
      "StandardScalerWrapper XGBoostClassifier        0:00:43       0.9034    0.9136\n",
      "        41   VotingEnsemble                                 0:02:04       0.9155    0.9155\n",
      "        42   StackEnsemble                                  0:01:14       0.9135    0.9155\n",
      "Stopping criteria reached at iteration 43. Ending experiment.\n",
      "****************************************************************************************************\n",
      "Current status: BestRunExplainModel. Best run model explanations started\n",
      "Current status: ModelExplanationDataSetSetup. Model explanations data setup completed\n",
      "Current status: PickSurrogateModel. Choosing LightGBM as the surrogate model for explanations\n",
      "Current status: EngineeredFeatureExplanations. Computation of engineered features started\n",
      "Current status: EngineeredFeatureExplanations. Computation of engineered features completed\n",
      "Current status: BestRunExplainModel. Best run model explanations completed\n",
      "****************************************************************************************************\n"
     ]
    }
   ],
   "source": [
    "# Submit your automl run\n",
    "\n",
    "### YOUR CODE HERE ###\n",
    "exp = Experiment(ws, 'automl')  \n",
    "auto_run = exp.submit(automl_config, show_output = True)"
   ]
  },
  {
   "cell_type": "code",
   "execution_count": null,
   "metadata": {},
   "outputs": [],
   "source": []
  }
 ],
 "metadata": {
  "kernelspec": {
   "display_name": "Python 3.6 - AzureML",
   "language": "python",
   "name": "python3-azureml"
  },
  "language_info": {
   "codemirror_mode": {
    "name": "ipython",
    "version": 3
   },
   "file_extension": ".py",
   "mimetype": "text/x-python",
   "name": "python",
   "nbconvert_exporter": "python",
   "pygments_lexer": "ipython3",
   "version": "3.6.9"
  }
 },
 "nbformat": 4,
 "nbformat_minor": 4
}
